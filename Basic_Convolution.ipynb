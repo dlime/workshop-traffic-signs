{
 "cells": [
  {
   "cell_type": "markdown",
   "metadata": {
    "nbpresent": {
     "id": "eabd9c22-caac-47b4-aa50-ae1a65f80431"
    }
   },
   "source": [
    "http://benchmark.ini.rub.de/?section=gtsrb&subsection=news"
   ]
  },
  {
   "cell_type": "markdown",
   "metadata": {
    "nbpresent": {
     "id": "b46ac6f6-bd96-480c-9fcc-df6b5fff2216"
    }
   },
   "source": [
    "# Exploration"
   ]
  },
  {
   "cell_type": "code",
   "execution_count": 2,
   "metadata": {
    "ExecuteTime": {
     "end_time": "2017-03-14T08:22:36.704551",
     "start_time": "2017-03-14T08:22:36.697050"
    },
    "nbpresent": {
     "id": "0a05c2ac-36d1-4a51-a60d-88f4dafa6919"
    },
    "run_control": {
     "frozen": false,
     "read_only": false
    }
   },
   "outputs": [],
   "source": [
    "import pickle\n",
    "import os\n",
    "import csv\n",
    "from collections import Counter\n",
    "import numpy as np\n",
    "import matplotlib.pyplot as plt\n",
    "import seaborn as sns\n",
    "\n",
    "%matplotlib inline"
   ]
  },
  {
   "cell_type": "code",
   "execution_count": 3,
   "metadata": {
    "ExecuteTime": {
     "end_time": "2017-03-14T08:24:51.568073",
     "start_time": "2017-03-14T08:24:51.387073"
    },
    "nbpresent": {
     "id": "d657ed6d-235b-4c3a-ac11-d0f32e11473f"
    },
    "run_control": {
     "frozen": false,
     "read_only": false
    }
   },
   "outputs": [],
   "source": [
    "# Load pickled data\n",
    "training_file_1 = 'data/train_1.pickle'\n",
    "training_file_2 = 'data/train_2.pickle'\n",
    "testing_file = 'data/test.pickle'\n",
    "\n",
    "# Load training data\n",
    "with open(training_file_1, \"rb\") as pickle_file:\n",
    "    dataset_1 = pickle.load(pickle_file)\n",
    "with open(training_file_2, \"rb\") as pickle_file:\n",
    "    dataset_2 = pickle.load(pickle_file)\n",
    "\n",
    "train = {}\n",
    "for column in [\"coords\", \"sizes\", \"labels\", \"features\"]:\n",
    "    train[column] = np.concatenate((dataset_1[column], dataset_2[column]), axis=0)\n",
    "    \n",
    "# Load testing data\n",
    "with open(testing_file, mode='rb') as f:\n",
    "    test = pickle.load(f)\n",
    "    \n",
    "X_train, y_train = train['features'], train['labels']\n",
    "X_test, y_test = test['features'], test['labels']"
   ]
  },
  {
   "cell_type": "code",
   "execution_count": 4,
   "metadata": {
    "ExecuteTime": {
     "end_time": "2017-03-14T08:24:52.338418",
     "start_time": "2017-03-14T08:24:52.328416"
    },
    "nbpresent": {
     "id": "4c23f604-bc14-44b8-827f-b03653d587a0"
    },
    "run_control": {
     "frozen": false,
     "read_only": false
    }
   },
   "outputs": [
    {
     "name": "stdout",
     "output_type": "stream",
     "text": [
      "Number of training examples = 39209\n",
      "Number of testing examples = 12630\n",
      "Image data shape = (32, 32, 3)\n",
      "Number of classes = 43\n"
     ]
    }
   ],
   "source": [
    "#Summmary\n",
    "n_train = len(X_train)\n",
    "n_test = len(X_test)\n",
    "image_shape = X_train[0].shape\n",
    "n_classes = len(set(y_train))\n",
    "\n",
    "print(\"Number of training examples =\", n_train)\n",
    "print(\"Number of testing examples =\", n_test)\n",
    "print(\"Image data shape =\", image_shape)\n",
    "print(\"Number of classes =\", n_classes)"
   ]
  },
  {
   "cell_type": "code",
   "execution_count": 5,
   "metadata": {
    "ExecuteTime": {
     "end_time": "2017-03-14T08:24:52.990303",
     "start_time": "2017-03-14T08:24:52.985299"
    },
    "nbpresent": {
     "id": "4e223abd-b4e0-4851-a7f1-4c49f9d629e0"
    },
    "run_control": {
     "frozen": false,
     "read_only": false
    }
   },
   "outputs": [],
   "source": [
    "# Load class names for visualization\n",
    "signnames = []\n",
    "with open('data/signnames.csv', 'r') as csvfile:\n",
    "    namereader = csv.reader(csvfile, delimiter=',')\n",
    "    next(namereader, None)\n",
    "    for row in namereader:\n",
    "        signnames.append(row[1])"
   ]
  },
  {
   "cell_type": "code",
   "execution_count": 6,
   "metadata": {
    "ExecuteTime": {
     "end_time": "2017-03-14T08:24:53.532338",
     "start_time": "2017-03-14T08:24:53.515836"
    },
    "code_folding": [],
    "nbpresent": {
     "id": "b06847ff-135b-49e0-a9ad-795feadd6bfb"
    },
    "run_control": {
     "frozen": false,
     "read_only": false
    }
   },
   "outputs": [],
   "source": [
    "def plot_signs(images, labels=None, rows=2, cols=4, rnd=True):\n",
    "    \"\"\"\n",
    "    Utility function to plot images in a grid optionaly with their corresponding labels.\n",
    "    \"\"\"\n",
    "    nimg = min(len(images),rows*cols)\n",
    "    if rnd:\n",
    "        selection = np.random.choice(images.shape[0], nimg, replace=False)\n",
    "    else:\n",
    "        selection = range(nimg)\n",
    "        \n",
    "    images_to_show = images[selection]\n",
    "    if labels is not None:\n",
    "        labels_to_plot = labels[selection]\n",
    "    \n",
    "    \n",
    "    f, axarr = plt.subplots(rows, cols, figsize=(12, 3*rows))\n",
    "    for row in range(rows):\n",
    "        for col in range(cols):\n",
    "            index = (row*cols)+col\n",
    "            if index >= len(images_to_show):\n",
    "                break\n",
    "                \n",
    "            ax = axarr[row,col] if rows > 1 else axarr[col]\n",
    "            ax.imshow(images_to_show[index])\n",
    "            ax.axis('off')\n",
    "            \n",
    "            if labels_to_plot is not None:\n",
    "                ax.set_title('%s' % labels_to_plot[index], fontsize=8)"
   ]
  },
  {
   "cell_type": "code",
   "execution_count": 7,
   "metadata": {
    "ExecuteTime": {
     "end_time": "2017-03-14T08:24:54.069482",
     "start_time": "2017-03-14T08:24:54.056985"
    },
    "nbpresent": {
     "id": "6cabda60-14bf-4733-a5f2-90c2e2106b75"
    },
    "run_control": {
     "frozen": false,
     "read_only": false
    }
   },
   "outputs": [],
   "source": [
    "# Map labels to their names\n",
    "y_train_names = np.array([signnames[i] for i in y_train])"
   ]
  },
  {
   "cell_type": "code",
   "execution_count": 8,
   "metadata": {
    "ExecuteTime": {
     "end_time": "2017-03-14T08:24:55.394442",
     "start_time": "2017-03-14T08:24:54.454441"
    },
    "nbpresent": {
     "id": "c86afb40-baa4-4e51-bb8a-a41d253a39f3"
    },
    "run_control": {
     "frozen": false,
     "read_only": false
    }
   },
   "outputs": [
    {
     "data": {
      "image/png": "[encoded data removed]",
      "text/plain": [
       "<Figure size 864x432 with 8 Axes>"
      ]
     },
     "metadata": {
      "needs_background": "light"
     },
     "output_type": "display_data"
    }
   ],
   "source": [
    "plot_signs(X_train, y_train_names)"
   ]
  },
  {
   "cell_type": "code",
   "execution_count": 9,
   "metadata": {
    "ExecuteTime": {
     "end_time": "2017-03-14T08:24:56.146943",
     "start_time": "2017-03-14T08:24:55.396442"
    },
    "nbpresent": {
     "id": "838755fd-c0f5-452e-ba2f-fe13525c9b6e"
    },
    "run_control": {
     "frozen": false,
     "read_only": false
    }
   },
   "outputs": [
    {
     "data": {
      "image/png": "[encoded data removed]",
      "text/plain": [
       "<Figure size 864x288 with 1 Axes>"
      ]
     },
     "metadata": {
      "needs_background": "light"
     },
     "output_type": "display_data"
    }
   ],
   "source": [
    "train_counter = Counter(y_train)\n",
    "order = list(zip(*train_counter.most_common()))[0]\n",
    "\n",
    "f, ax = plt.subplots(figsize=(12, 4))\n",
    "\n",
    "ax = sns.countplot(x=y_train, order=order, color='darkblue', ax=ax, label=\"train\")\n",
    "\n",
    "ax = sns.countplot(x=y_test, order=order, color='lightblue', ax=ax, label=\"test\")\n",
    "\n",
    "_ = ax.set_title('Class distribution')\n",
    "_ = ax.legend(ncol=2, loc=\"upper right\", frameon=True)\n",
    "_ = ax.set_xticklabels(['%s - %s'% (signnames[i], i) for i in order], rotation=90)"
   ]
  },
  {
   "cell_type": "markdown",
   "metadata": {
    "nbpresent": {
     "id": "14961eb0-4385-4403-8e2b-45c49a2cf656"
    }
   },
   "source": [
    "# Preprocessing"
   ]
  },
  {
   "cell_type": "code",
   "execution_count": 10,
   "metadata": {
    "ExecuteTime": {
     "end_time": "2017-03-14T08:24:59.424624",
     "start_time": "2017-03-14T08:24:58.841579"
    },
    "nbpresent": {
     "id": "56399b8a-334b-493f-aa5a-b184de0f9d2b"
    },
    "run_control": {
     "frozen": false,
     "read_only": false
    }
   },
   "outputs": [],
   "source": [
    "from sklearn.preprocessing import LabelBinarizer\n",
    "from sklearn.model_selection import train_test_split\n",
    "from sklearn.utils import shuffle"
   ]
  },
  {
   "cell_type": "code",
   "execution_count": 11,
   "metadata": {
    "ExecuteTime": {
     "end_time": "2017-03-14T08:25:00.785166",
     "start_time": "2017-03-14T08:24:59.953653"
    },
    "nbpresent": {
     "id": "f9e5513a-32b6-44b2-9219-69ec683889d7"
    },
    "run_control": {
     "frozen": false,
     "read_only": false
    }
   },
   "outputs": [],
   "source": [
    "# Normalizes image to 0-1 range\n",
    "X_train = X_train/255.\n",
    "X_test = X_test/255."
   ]
  },
  {
   "cell_type": "code",
   "execution_count": 12,
   "metadata": {
    "ExecuteTime": {
     "end_time": "2017-03-14T08:25:09.116670",
     "start_time": "2017-03-14T08:25:08.678211"
    },
    "nbpresent": {
     "id": "e13e6384-b9ed-43ba-8b40-7c91aa444ce6"
    },
    "run_control": {
     "frozen": false,
     "read_only": false
    }
   },
   "outputs": [],
   "source": [
    "# Split train data into a train and validation set\n",
    "X_train, X_val, y_train, y_val = train_test_split(X_train, \n",
    "                                                  y_train,\n",
    "                                                  test_size=0.3)"
   ]
  },
  {
   "cell_type": "code",
   "execution_count": 13,
   "metadata": {
    "ExecuteTime": {
     "end_time": "2017-03-14T08:25:09.311639",
     "start_time": "2017-03-14T08:25:09.302139"
    },
    "nbpresent": {
     "id": "14f68ddc-5e1d-497c-84f9-5269851fd4ab"
    },
    "run_control": {
     "frozen": false,
     "read_only": false
    }
   },
   "outputs": [],
   "source": [
    "# Setup One-hot encoding\n",
    "lb = LabelBinarizer()\n",
    "lb.fit(np.concatenate((y_train, y_test), axis=0))\n",
    "\n",
    "def one_hot_encoding(data, lb):\n",
    "    encoded = np.array(lb.transform(data))\n",
    "    encoded_cls = lb.inverse_transform(encoded)\n",
    "    \n",
    "    return encoded, encoded_cls"
   ]
  },
  {
   "cell_type": "code",
   "execution_count": 14,
   "metadata": {
    "ExecuteTime": {
     "end_time": "2017-03-14T08:25:09.947854",
     "start_time": "2017-03-14T08:25:09.917354"
    },
    "nbpresent": {
     "id": "6c20b76d-0572-4631-99d1-32a255822401"
    },
    "run_control": {
     "frozen": false,
     "read_only": false
    }
   },
   "outputs": [],
   "source": [
    "# Encode labels\n",
    "y_train, y_train_cls = one_hot_encoding(y_train, lb)\n",
    "y_val, y_val_cls = one_hot_encoding(y_val, lb)\n",
    "y_test, y_test_cls = one_hot_encoding(y_test, lb)"
   ]
  },
  {
   "cell_type": "code",
   "execution_count": 15,
   "metadata": {
    "ExecuteTime": {
     "end_time": "2017-03-14T08:25:10.579509",
     "start_time": "2017-03-14T08:25:10.163008"
    },
    "nbpresent": {
     "id": "65b7970c-8015-4d8d-97b4-b89c05fc53b1"
    },
    "run_control": {
     "frozen": false,
     "read_only": false
    }
   },
   "outputs": [],
   "source": [
    "# make sure features are of type float32 not float64\n",
    "X_train = X_train.astype(np.float32)\n",
    "X_val = X_val.astype(np.float32)\n",
    "X_test = X_test.astype(np.float32)"
   ]
  },
  {
   "cell_type": "code",
   "execution_count": 16,
   "metadata": {
    "ExecuteTime": {
     "end_time": "2017-03-14T08:25:10.822007",
     "start_time": "2017-03-14T08:25:10.580508"
    },
    "nbpresent": {
     "id": "36e7236f-019f-4a28-be46-e7d6fb8dd59f"
    },
    "run_control": {
     "frozen": false,
     "read_only": false
    }
   },
   "outputs": [],
   "source": [
    "# Shuffle train and validation set\n",
    "X_train, y_train = shuffle(X_train, y_train)\n",
    "X_val, y_val = shuffle(X_val, y_val)"
   ]
  },
  {
   "cell_type": "code",
   "execution_count": 17,
   "metadata": {
    "ExecuteTime": {
     "end_time": "2017-03-14T08:25:10.830015",
     "start_time": "2017-03-14T08:25:10.824007"
    },
    "nbpresent": {
     "id": "8d3926fd-9192-4f9b-b998-f2e6d3cec1b2"
    },
    "run_control": {
     "frozen": false,
     "read_only": false
    }
   },
   "outputs": [
    {
     "name": "stdout",
     "output_type": "stream",
     "text": [
      "Number of training examples = 27446\n",
      "Number of validation examples = 11763\n",
      "Number of testing examples = 12630\n"
     ]
    }
   ],
   "source": [
    "# Summary\n",
    "print(\"Number of training examples =\", len(y_train))\n",
    "print(\"Number of validation examples =\", len(y_val))\n",
    "print(\"Number of testing examples =\", len(y_test))"
   ]
  },
  {
   "cell_type": "markdown",
   "metadata": {
    "nbpresent": {
     "id": "2215a594-62c4-433a-8fd8-c55d63a1dd54"
    }
   },
   "source": [
    "# Model"
   ]
  },
  {
   "cell_type": "code",
   "execution_count": 18,
   "metadata": {
    "ExecuteTime": {
     "end_time": "2017-03-14T08:25:16.370369",
     "start_time": "2017-03-14T08:25:11.983134"
    },
    "nbpresent": {
     "id": "da35dd0c-400c-4ec8-a611-448d82078a53"
    },
    "run_control": {
     "frozen": false,
     "read_only": false
    }
   },
   "outputs": [],
   "source": [
    "from tensorflow.keras import Sequential\n",
    "from tensorflow.keras.layers import Dense, Flatten, Convolution2D, MaxPooling2D\n",
    "from sklearn.metrics import accuracy_score\n",
    "import math"
   ]
  },
  {
   "cell_type": "code",
   "execution_count": 19,
   "metadata": {},
   "outputs": [
    {
     "name": "stdout",
     "output_type": "stream",
     "text": [
      "1 Physical GPUs, 1 Logical GPUs\n"
     ]
    }
   ],
   "source": [
    "import tensorflow as tf\n",
    "from tensorflow.keras.preprocessing.image import ImageDataGenerator\n",
    "\n",
    "gpus = tf.config.experimental.list_physical_devices('GPU')\n",
    "if gpus:\n",
    "  try:\n",
    "    # Currently, memory growth needs to be the same across GPUs\n",
    "    for gpu in gpus:\n",
    "      tf.config.experimental.set_memory_growth(gpu, True)\n",
    "    logical_gpus = tf.config.experimental.list_logical_devices('GPU')\n",
    "    print(len(gpus), \"Physical GPUs,\", len(logical_gpus), \"Logical GPUs\")\n",
    "  except RuntimeError as e:\n",
    "    # Memory growth must be set before GPUs have been initialized\n",
    "    print(e)"
   ]
  },
  {
   "cell_type": "code",
   "execution_count": 20,
   "metadata": {},
   "outputs": [],
   "source": [
    "# # confirm TensorFlow sees the GPU\n",
    "# from tensorflow.python.client import device_lib\n",
    "# assert 'GPU' in str(device_lib.list_local_devices())\n",
    "\n",
    "# import tensorflow as tf\n",
    "# physical_devices = tf.config.list_physical_devices('GPU')\n",
    "# print(physical_devices)\n",
    "# try:\n",
    "#     print(\"Set memory growth\")\n",
    "#     tf.config.experimental.set_memory_growth(physical_devices[0], True)\n",
    "# except Exception as e:\n",
    "#     print(\"Passing\", e)\n",
    "#     pass"
   ]
  },
  {
   "cell_type": "code",
   "execution_count": 21,
   "metadata": {
    "ExecuteTime": {
     "end_time": "2017-03-14T08:25:16.531368",
     "start_time": "2017-03-14T08:25:16.371867"
    },
    "run_control": {
     "frozen": false,
     "read_only": false
    }
   },
   "outputs": [
    {
     "name": "stdout",
     "output_type": "stream",
     "text": [
      "Model: \"sequential\"\n",
      "_________________________________________________________________\n",
      "Layer (type)                 Output Shape              Param #   \n",
      "=================================================================\n",
      "conv2d (Conv2D)              (None, 32, 32, 32)        896       \n",
      "_________________________________________________________________\n",
      "max_pooling2d (MaxPooling2D) (None, 16, 16, 32)        0         \n",
      "_________________________________________________________________\n",
      "conv2d_1 (Conv2D)            (None, 16, 16, 64)        18496     \n",
      "_________________________________________________________________\n",
      "max_pooling2d_1 (MaxPooling2 (None, 8, 8, 64)          0         \n",
      "_________________________________________________________________\n",
      "conv2d_2 (Conv2D)            (None, 8, 8, 128)         73856     \n",
      "_________________________________________________________________\n",
      "max_pooling2d_2 (MaxPooling2 (None, 4, 4, 128)         0         \n",
      "_________________________________________________________________\n",
      "flatten (Flatten)            (None, 2048)              0         \n",
      "_________________________________________________________________\n",
      "dense (Dense)                (None, 1024)              2098176   \n",
      "_________________________________________________________________\n",
      "dense_1 (Dense)              (None, 43)                44075     \n",
      "=================================================================\n",
      "Total params: 2,235,499\n",
      "Trainable params: 2,235,499\n",
      "Non-trainable params: 0\n",
      "_________________________________________________________________\n"
     ]
    }
   ],
   "source": [
    "model = Sequential()\n",
    "model.add(Convolution2D(32, 3, activation='relu', padding='same', input_shape=(32, 32, 3)))\n",
    "model.add(MaxPooling2D())\n",
    "model.add(Convolution2D(64, 3, activation='relu', padding='same'))\n",
    "model.add(MaxPooling2D())\n",
    "model.add(Convolution2D(128, 3, activation='relu', padding='same'))\n",
    "model.add(MaxPooling2D())\n",
    "model.add(Flatten())\n",
    "model.add(Dense(1024, activation='relu'))\n",
    "model.add(Dense(n_classes, activation='softmax'))\n",
    "\n",
    "model.summary()"
   ]
  },
  {
   "cell_type": "code",
   "execution_count": 22,
   "metadata": {
    "ExecuteTime": {
     "end_time": "2017-03-14T08:25:16.608867",
     "start_time": "2017-03-14T08:25:16.533368"
    },
    "run_control": {
     "frozen": false,
     "read_only": false
    }
   },
   "outputs": [],
   "source": [
    "model.compile(optimizer='adam',\n",
    "          loss='categorical_crossentropy',\n",
    "          metrics=['accuracy'])"
   ]
  },
  {
   "cell_type": "markdown",
   "metadata": {
    "nbpresent": {
     "id": "083dea70-fab4-4fad-8515-166bb2b3bbdf"
    }
   },
   "source": [
    "The following cell will train the model on the training images for multiple rounds (number of epochs). The images will be passed through the model in batches to reduce computing time. "
   ]
  },
  {
   "cell_type": "code",
   "execution_count": 23,
   "metadata": {
    "ExecuteTime": {
     "end_time": "2017-03-14T08:25:23.042145",
     "start_time": "2017-03-14T08:25:23.039645"
    },
    "run_control": {
     "frozen": false,
     "read_only": false
    }
   },
   "outputs": [],
   "source": [
    "EPOCHS = 3\n",
    "BATCH_SIZE = 32"
   ]
  },
  {
   "cell_type": "code",
   "execution_count": 24,
   "metadata": {
    "ExecuteTime": {
     "end_time": "2017-03-14T08:31:44.628866",
     "start_time": "2017-03-14T08:25:23.631606"
    },
    "run_control": {
     "frozen": false,
     "read_only": false
    }
   },
   "outputs": [
    {
     "name": "stdout",
     "output_type": "stream",
     "text": [
      "Epoch 1/3\n",
      "858/858 - 10s - loss: 1.0736 - accuracy: 0.6842 - val_loss: 0.2709 - val_accuracy: 0.9211\n",
      "Epoch 2/3\n",
      "858/858 - 9s - loss: 0.1198 - accuracy: 0.9648 - val_loss: 0.0822 - val_accuracy: 0.9767\n",
      "Epoch 3/3\n",
      "858/858 - 9s - loss: 0.0520 - accuracy: 0.9846 - val_loss: 0.0690 - val_accuracy: 0.9800\n"
     ]
    },
    {
     "data": {
      "text/plain": [
       "<tensorflow.python.keras.callbacks.History at 0x7eff1058a130>"
      ]
     },
     "execution_count": 24,
     "metadata": {},
     "output_type": "execute_result"
    }
   ],
   "source": [
    "model.fit(X_train, \n",
    "          y_train,\n",
    "          batch_size=BATCH_SIZE,\n",
    "          epochs=3,\n",
    "          verbose=2,\n",
    "          validation_data=(X_val, y_val),\n",
    "          shuffle=True)"
   ]
  },
  {
   "cell_type": "markdown",
   "metadata": {
    "nbpresent": {
     "id": "016bee45-302f-4740-8b9c-b74ad7f540de"
    }
   },
   "source": [
    "# Test"
   ]
  },
  {
   "cell_type": "markdown",
   "metadata": {
    "nbpresent": {
     "id": "dcfd6862-f3b0-4b46-9894-423bafdee05a"
    }
   },
   "source": [
    "Now it time to test the model on a complete new data set to verify it's performance and it's ability to generalize. "
   ]
  },
  {
   "cell_type": "code",
   "execution_count": 25,
   "metadata": {
    "ExecuteTime": {
     "end_time": "2017-03-14T08:33:12.204487",
     "start_time": "2017-03-14T08:33:00.514484"
    },
    "nbpresent": {
     "id": "67bc655a-056b-4737-84c3-4c6985ac79ed"
    },
    "run_control": {
     "frozen": false,
     "read_only": false
    }
   },
   "outputs": [
    {
     "name": "stdout",
     "output_type": "stream",
     "text": [
      "WARNING:tensorflow:From <ipython-input-25-b4aba5f61c95>:2: Sequential.predict_classes (from tensorflow.python.keras.engine.sequential) is deprecated and will be removed after 2021-01-01.\n",
      "Instructions for updating:\n",
      "Please use instead:* `np.argmax(model.predict(x), axis=-1)`,   if your model does multi-class classification   (e.g. if it uses a `softmax` last-layer activation).* `(model.predict(x) > 0.5).astype(\"int32\")`,   if your model does binary classification   (e.g. if it uses a `sigmoid` last-layer activation).\n"
     ]
    }
   ],
   "source": [
    "# Don't need to change anything below here\n",
    "predict = model.predict_classes(X_test, verbose=0)\n",
    "test_acc = accuracy_score(y_test_cls, predict)"
   ]
  },
  {
   "cell_type": "code",
   "execution_count": 26,
   "metadata": {
    "ExecuteTime": {
     "end_time": "2017-03-14T08:33:12.212487",
     "start_time": "2017-03-14T08:33:12.205987"
    },
    "run_control": {
     "frozen": false,
     "read_only": false
    }
   },
   "outputs": [
    {
     "name": "stdout",
     "output_type": "stream",
     "text": [
      "\n",
      "Test Accuracy: 0.91%\n"
     ]
    }
   ],
   "source": [
    "print('\\nTest Accuracy: %0.2f%%' % test_acc)"
   ]
  },
  {
   "cell_type": "code",
   "execution_count": null,
   "metadata": {
    "run_control": {
     "frozen": false,
     "read_only": false
    }
   },
   "outputs": [],
   "source": []
  }
 ],
 "metadata": {
  "anaconda-cloud": {},
  "kernelspec": {
   "display_name": "Python 3",
   "language": "python",
   "name": "python3"
  },
  "language_info": {
   "codemirror_mode": {
    "name": "ipython",
    "version": 3
   },
   "file_extension": ".py",
   "mimetype": "text/x-python",
   "name": "python",
   "nbconvert_exporter": "python",
   "pygments_lexer": "ipython3",
   "version": "3.8.3"
  },
  "nav_menu": {},
  "nbpresent": {
   "slides": {
    "066ac94e-3bb4-45df-853c-d59b3e606e67": {
     "id": "066ac94e-3bb4-45df-853c-d59b3e606e67",
     "prev": "79fd6896-9795-4e72-887c-1ec408eae0c6",
     "regions": {
      "aceb51c9-56a9-418a-a3a4-eed5fe394025": {
       "attrs": {
        "height": 0.8,
        "width": 0.8,
        "x": 0.1,
        "y": 0.1
       },
       "content": {
        "cell": "c86afb40-baa4-4e51-bb8a-a41d253a39f3",
        "part": "whole"
       },
       "id": "aceb51c9-56a9-418a-a3a4-eed5fe394025"
      }
     }
    },
    "0f6640b0-2803-4575-ab4f-c57f76091913": {
     "id": "0f6640b0-2803-4575-ab4f-c57f76091913",
     "prev": "8e7ab955-454c-4180-9a01-7c5457a2bc59",
     "regions": {
      "3ec4a0f0-2882-4079-a2b1-d99cbfa4ee4b": {
       "attrs": {
        "height": 0.8,
        "width": 0.8,
        "x": 0.1,
        "y": 0.1
       },
       "content": {
        "cell": "2215a594-62c4-433a-8fd8-c55d63a1dd54",
        "part": "whole"
       },
       "id": "3ec4a0f0-2882-4079-a2b1-d99cbfa4ee4b"
      }
     }
    },
    "22801702-7c99-40ed-9657-5759ce12b080": {
     "id": "22801702-7c99-40ed-9657-5759ce12b080",
     "prev": "5559d2ef-23b6-48dc-bd98-c1a83fffb1d8",
     "regions": {
      "dfbd0f72-f5c6-4096-b852-cdfb0c414dcb": {
       "attrs": {
        "height": 0.8,
        "width": 0.8,
        "x": 0.1,
        "y": 0.1
       },
       "content": {
        "cell": "67bc655a-056b-4737-84c3-4c6985ac79ed",
        "part": "whole"
       },
       "id": "dfbd0f72-f5c6-4096-b852-cdfb0c414dcb"
      }
     }
    },
    "2b747447-16d7-4291-8e93-669fe2f9a046": {
     "id": "2b747447-16d7-4291-8e93-669fe2f9a046",
     "prev": "f38f910a-146d-41b0-89eb-96314e2676e5",
     "regions": {
      "d9ac40d8-c98a-46e1-ba56-998ced5fea82": {
       "attrs": {
        "height": 0.8,
        "width": 0.8,
        "x": 0.1,
        "y": 0.1
       },
       "content": {
        "cell": "185a5ec1-cd67-44ed-9660-c54e143b4c47",
        "part": "whole"
       },
       "id": "d9ac40d8-c98a-46e1-ba56-998ced5fea82"
      }
     }
    },
    "3681993e-c252-4190-bb03-58fbbfd91fd6": {
     "id": "3681993e-c252-4190-bb03-58fbbfd91fd6",
     "prev": "86e416e1-e895-4912-b8ac-6471631561a9",
     "regions": {
      "bba88e60-94d4-41f1-bf1e-242fa82cec93": {
       "attrs": {
        "height": 0.8,
        "width": 0.8,
        "x": 0.1,
        "y": 0.1
       },
       "content": {
        "cell": "0a05c2ac-36d1-4a51-a60d-88f4dafa6919",
        "part": "whole"
       },
       "id": "bba88e60-94d4-41f1-bf1e-242fa82cec93"
      }
     }
    },
    "3caa4679-1824-4b16-b7cd-dfcd5c2c6573": {
     "id": "3caa4679-1824-4b16-b7cd-dfcd5c2c6573",
     "prev": "b5a0d415-6606-45a9-a61a-5be9fe47655e",
     "regions": {
      "e989d278-d129-46cf-8859-c6c94ec67d80": {
       "attrs": {
        "height": 0.8,
        "width": 0.8,
        "x": 0.1,
        "y": 0.1
       },
       "content": {
        "cell": "4c23f604-bc14-44b8-827f-b03653d587a0",
        "part": "whole"
       },
       "id": "e989d278-d129-46cf-8859-c6c94ec67d80"
      }
     }
    },
    "3eb26dc6-0269-4356-aa53-c0ceb36a8647": {
     "id": "3eb26dc6-0269-4356-aa53-c0ceb36a8647",
     "prev": "2b747447-16d7-4291-8e93-669fe2f9a046",
     "regions": {
      "0c622aea-cd35-433a-8e0c-e72a0071fd5f": {
       "attrs": {
        "height": 0.8,
        "width": 0.8,
        "x": 0.1,
        "y": 0.1
       },
       "content": {
        "cell": "016bee45-302f-4740-8b9c-b74ad7f540de",
        "part": "whole"
       },
       "id": "0c622aea-cd35-433a-8e0c-e72a0071fd5f"
      }
     }
    },
    "485caee9-d618-4ced-a3a2-20bcd4d402f2": {
     "id": "485caee9-d618-4ced-a3a2-20bcd4d402f2",
     "prev": "0f6640b0-2803-4575-ab4f-c57f76091913",
     "regions": {
      "20cce267-daeb-4364-8cbb-007e6c029da2": {
       "attrs": {
        "height": 0.8,
        "width": 0.8,
        "x": 0.1,
        "y": 0.1
       },
       "content": {
        "cell": "da35dd0c-400c-4ec8-a611-448d82078a53",
        "part": "whole"
       },
       "id": "20cce267-daeb-4364-8cbb-007e6c029da2"
      }
     }
    },
    "51fd1853-61f7-498f-8d53-cab28252480d": {
     "id": "51fd1853-61f7-498f-8d53-cab28252480d",
     "prev": "65624ac4-d700-4f35-9025-707ad5f4bdb8",
     "regions": {
      "2a0e4cde-958b-43b4-9369-98c190bf1f17": {
       "attrs": {
        "height": 0.8,
        "width": 0.8,
        "x": 0.1,
        "y": 0.1
       },
       "content": {
        "cell": "56399b8a-334b-493f-aa5a-b184de0f9d2b",
        "part": "whole"
       },
       "id": "2a0e4cde-958b-43b4-9369-98c190bf1f17"
      }
     }
    },
    "5559d2ef-23b6-48dc-bd98-c1a83fffb1d8": {
     "id": "5559d2ef-23b6-48dc-bd98-c1a83fffb1d8",
     "prev": "3eb26dc6-0269-4356-aa53-c0ceb36a8647",
     "regions": {
      "101db154-44ac-4170-9393-667e6c020473": {
       "attrs": {
        "height": 0.8,
        "width": 0.8,
        "x": 0.1,
        "y": 0.1
       },
       "content": {
        "cell": "dcfd6862-f3b0-4b46-9894-423bafdee05a",
        "part": "whole"
       },
       "id": "101db154-44ac-4170-9393-667e6c020473"
      }
     }
    },
    "57437e10-8039-4939-a68f-eb0a2d903e2f": {
     "id": "57437e10-8039-4939-a68f-eb0a2d903e2f",
     "prev": "9c64a828-e0ab-4adc-8500-c4526296da6a",
     "regions": {
      "de9f6479-d13e-4ec2-8e86-ed328b40c06b": {
       "attrs": {
        "height": 0.8,
        "width": 0.8,
        "x": 0.1,
        "y": 0.1
       },
       "content": {
        "cell": "6c20b76d-0572-4631-99d1-32a255822401",
        "part": "whole"
       },
       "id": "de9f6479-d13e-4ec2-8e86-ed328b40c06b"
      }
     }
    },
    "65624ac4-d700-4f35-9025-707ad5f4bdb8": {
     "id": "65624ac4-d700-4f35-9025-707ad5f4bdb8",
     "prev": "6af7d029-a8ae-43ea-92a7-59c7b0593011",
     "regions": {
      "9affe03e-54ef-4a8a-8914-51cf05128074": {
       "attrs": {
        "height": 0.8,
        "width": 0.8,
        "x": 0.1,
        "y": 0.1
       },
       "content": {
        "cell": "14961eb0-4385-4403-8e2b-45c49a2cf656",
        "part": "whole"
       },
       "id": "9affe03e-54ef-4a8a-8914-51cf05128074"
      }
     }
    },
    "6725c2d8-8f30-46ea-bb2f-c0df29d5c304": {
     "id": "6725c2d8-8f30-46ea-bb2f-c0df29d5c304",
     "prev": "c5a95fa1-feb4-4d19-b682-dd9208c32521",
     "regions": {
      "e919240e-257c-42a4-95a0-334ecc776bc9": {
       "attrs": {
        "height": 0.8,
        "width": 0.8,
        "x": 0.1,
        "y": 0.1
       },
       "content": {
        "cell": "e13e6384-b9ed-43ba-8b40-7c91aa444ce6",
        "part": "whole"
       },
       "id": "e919240e-257c-42a4-95a0-334ecc776bc9"
      }
     }
    },
    "6af7d029-a8ae-43ea-92a7-59c7b0593011": {
     "id": "6af7d029-a8ae-43ea-92a7-59c7b0593011",
     "prev": "066ac94e-3bb4-45df-853c-d59b3e606e67",
     "regions": {
      "40ce55fa-e1c5-462a-86f5-98c02bd5b12e": {
       "attrs": {
        "height": 0.8,
        "width": 0.8,
        "x": 0.1,
        "y": 0.1
       },
       "content": {
        "cell": "838755fd-c0f5-452e-ba2f-fe13525c9b6e",
        "part": "whole"
       },
       "id": "40ce55fa-e1c5-462a-86f5-98c02bd5b12e"
      }
     }
    },
    "79fd6896-9795-4e72-887c-1ec408eae0c6": {
     "id": "79fd6896-9795-4e72-887c-1ec408eae0c6",
     "prev": "b374cee9-f4c6-4717-adce-a86359bc5c5d",
     "regions": {
      "400d0f1f-5238-43ab-879f-31d17b55b82c": {
       "attrs": {
        "height": 0.8,
        "width": 0.8,
        "x": 0.1,
        "y": 0.1
       },
       "content": {
        "cell": "6cabda60-14bf-4733-a5f2-90c2e2106b75",
        "part": "whole"
       },
       "id": "400d0f1f-5238-43ab-879f-31d17b55b82c"
      }
     }
    },
    "831cbc7b-794e-4d07-8b4b-6478917ce26c": {
     "id": "831cbc7b-794e-4d07-8b4b-6478917ce26c",
     "prev": "485caee9-d618-4ced-a3a2-20bcd4d402f2",
     "regions": {
      "ffacea3a-e235-4cec-ba48-625673079f59": {
       "attrs": {
        "height": 0.8,
        "width": 0.8,
        "x": 0.1,
        "y": 0.1
       },
       "content": {
        "cell": "18b99d98-4759-4d3f-85c6-4e9b5bcf170e",
        "part": "whole"
       },
       "id": "ffacea3a-e235-4cec-ba48-625673079f59"
      }
     }
    },
    "842c5d83-42e6-4b84-a6df-1d8bcc5b7c41": {
     "id": "842c5d83-42e6-4b84-a6df-1d8bcc5b7c41",
     "prev": "57437e10-8039-4939-a68f-eb0a2d903e2f",
     "regions": {
      "67b8aeac-b9a6-4224-9da9-7373356ee3fb": {
       "attrs": {
        "height": 0.8,
        "width": 0.8,
        "x": 0.1,
        "y": 0.1
       },
       "content": {
        "cell": "65b7970c-8015-4d8d-97b4-b89c05fc53b1",
        "part": "whole"
       },
       "id": "67b8aeac-b9a6-4224-9da9-7373356ee3fb"
      }
     }
    },
    "86e416e1-e895-4912-b8ac-6471631561a9": {
     "id": "86e416e1-e895-4912-b8ac-6471631561a9",
     "prev": "b74a947d-396b-4477-ba09-c413022ef62c",
     "regions": {
      "81430697-7ea1-40d7-8c37-8af1d1fbe837": {
       "attrs": {
        "height": 0.8,
        "width": 0.8,
        "x": 0.1,
        "y": 0.1
       },
       "content": {
        "cell": "b46ac6f6-bd96-480c-9fcc-df6b5fff2216",
        "part": "whole"
       },
       "id": "81430697-7ea1-40d7-8c37-8af1d1fbe837"
      }
     }
    },
    "8948fcc7-67fd-4361-90cd-7ea5873931cf": {
     "id": "8948fcc7-67fd-4361-90cd-7ea5873931cf",
     "prev": "831cbc7b-794e-4d07-8b4b-6478917ce26c",
     "regions": {
      "06816286-ec9c-40c6-a1ba-bf1f4e47b25b": {
       "attrs": {
        "height": 0.8,
        "width": 0.8,
        "x": 0.1,
        "y": 0.1
       },
       "content": {
        "cell": "4737b673-d1c9-4184-837c-7de1bd2227fb",
        "part": "whole"
       },
       "id": "06816286-ec9c-40c6-a1ba-bf1f4e47b25b"
      }
     }
    },
    "8e7ab955-454c-4180-9a01-7c5457a2bc59": {
     "id": "8e7ab955-454c-4180-9a01-7c5457a2bc59",
     "prev": "cd670d6d-2451-4aec-8a3c-5285b1d3e0dc",
     "regions": {
      "62669653-1969-4916-b735-09dbca3220cd": {
       "attrs": {
        "height": 0.8,
        "width": 0.8,
        "x": 0.1,
        "y": 0.1
       },
       "content": {
        "cell": "8d3926fd-9192-4f9b-b998-f2e6d3cec1b2",
        "part": "whole"
       },
       "id": "62669653-1969-4916-b735-09dbca3220cd"
      }
     }
    },
    "9c64a828-e0ab-4adc-8500-c4526296da6a": {
     "id": "9c64a828-e0ab-4adc-8500-c4526296da6a",
     "prev": "6725c2d8-8f30-46ea-bb2f-c0df29d5c304",
     "regions": {
      "61f41568-3c3c-46c3-aade-d5759b9cda09": {
       "attrs": {
        "height": 0.8,
        "width": 0.8,
        "x": 0.1,
        "y": 0.1
       },
       "content": {
        "cell": "14f68ddc-5e1d-497c-84f9-5269851fd4ab",
        "part": "whole"
       },
       "id": "61f41568-3c3c-46c3-aade-d5759b9cda09"
      }
     }
    },
    "a13eb3ce-706c-4a06-bd0a-adc6373dfad9": {
     "id": "a13eb3ce-706c-4a06-bd0a-adc6373dfad9",
     "prev": "8948fcc7-67fd-4361-90cd-7ea5873931cf",
     "regions": {
      "22208b04-48e1-41cc-8bcb-cf1f0bf0b108": {
       "attrs": {
        "height": 0.8,
        "width": 0.8,
        "x": 0.1,
        "y": 0.1
       },
       "content": {
        "cell": "c7ea7831-38c0-4b16-825d-3fcbe8dd23ae",
        "part": "whole"
       },
       "id": "22208b04-48e1-41cc-8bcb-cf1f0bf0b108"
      }
     }
    },
    "a68d3dcf-e28e-4bde-ada0-9d67dbd90ac8": {
     "id": "a68d3dcf-e28e-4bde-ada0-9d67dbd90ac8",
     "prev": "a13eb3ce-706c-4a06-bd0a-adc6373dfad9",
     "regions": {
      "c1dcdf59-a5b2-43f5-8523-ad8da69b4924": {
       "attrs": {
        "height": 0.8,
        "width": 0.8,
        "x": 0.1,
        "y": 0.1
       },
       "content": {
        "cell": "31118b59-3afc-4197-a977-00e15a77fb6c",
        "part": "whole"
       },
       "id": "c1dcdf59-a5b2-43f5-8523-ad8da69b4924"
      }
     }
    },
    "b374cee9-f4c6-4717-adce-a86359bc5c5d": {
     "id": "b374cee9-f4c6-4717-adce-a86359bc5c5d",
     "prev": "f6b1c478-7af8-4ca8-adc7-05b9814a84de",
     "regions": {
      "c9106dd9-32e3-43b0-bb97-de289ee9d4bd": {
       "attrs": {
        "height": 0.8,
        "width": 0.8,
        "x": 0.1,
        "y": 0.1
       },
       "content": {
        "cell": "b06847ff-135b-49e0-a9ad-795feadd6bfb",
        "part": "whole"
       },
       "id": "c9106dd9-32e3-43b0-bb97-de289ee9d4bd"
      }
     }
    },
    "b5a0d415-6606-45a9-a61a-5be9fe47655e": {
     "id": "b5a0d415-6606-45a9-a61a-5be9fe47655e",
     "prev": "3681993e-c252-4190-bb03-58fbbfd91fd6",
     "regions": {
      "e41eeeb1-c966-43ec-a9b6-d05c75d41a0a": {
       "attrs": {
        "height": 0.8,
        "width": 0.8,
        "x": 0.1,
        "y": 0.1
       },
       "content": {
        "cell": "d657ed6d-235b-4c3a-ac11-d0f32e11473f",
        "part": "whole"
       },
       "id": "e41eeeb1-c966-43ec-a9b6-d05c75d41a0a"
      }
     }
    },
    "b74a947d-396b-4477-ba09-c413022ef62c": {
     "id": "b74a947d-396b-4477-ba09-c413022ef62c",
     "prev": "e0415971-8135-41ab-9b69-c4e869ac3a2f",
     "regions": {
      "ee449983-dd93-411b-b01d-11f866521351": {
       "attrs": {
        "height": 0.8,
        "width": 0.8,
        "x": 0.1,
        "y": 0.1
       },
       "content": {
        "cell": "2daf4872-7b59-4a9f-a949-531041da122b",
        "part": "whole"
       },
       "id": "ee449983-dd93-411b-b01d-11f866521351"
      }
     }
    },
    "be48a746-1681-4024-bfc1-456e19926e90": {
     "id": "be48a746-1681-4024-bfc1-456e19926e90",
     "prev": "22801702-7c99-40ed-9657-5759ce12b080",
     "regions": {
      "dbfa7ecc-013b-4ad9-bcf2-cd59d2d918c4": {
       "attrs": {
        "height": 0.8,
        "width": 0.8,
        "x": 0.1,
        "y": 0.1
       },
       "content": {
        "cell": "e61ae4da-4121-45d7-91d0-7fd653a65d50",
        "part": "whole"
       },
       "id": "dbfa7ecc-013b-4ad9-bcf2-cd59d2d918c4"
      }
     }
    },
    "c5a95fa1-feb4-4d19-b682-dd9208c32521": {
     "id": "c5a95fa1-feb4-4d19-b682-dd9208c32521",
     "prev": "51fd1853-61f7-498f-8d53-cab28252480d",
     "regions": {
      "aa233252-d3e7-40ae-92e3-34d1e452f74a": {
       "attrs": {
        "height": 0.8,
        "width": 0.8,
        "x": 0.1,
        "y": 0.1
       },
       "content": {
        "cell": "f9e5513a-32b6-44b2-9219-69ec683889d7",
        "part": "whole"
       },
       "id": "aa233252-d3e7-40ae-92e3-34d1e452f74a"
      }
     }
    },
    "cd670d6d-2451-4aec-8a3c-5285b1d3e0dc": {
     "id": "cd670d6d-2451-4aec-8a3c-5285b1d3e0dc",
     "prev": "842c5d83-42e6-4b84-a6df-1d8bcc5b7c41",
     "regions": {
      "07cd68ea-88f7-44ff-a8cf-47fc614eee78": {
       "attrs": {
        "height": 0.8,
        "width": 0.8,
        "x": 0.1,
        "y": 0.1
       },
       "content": {
        "cell": "36e7236f-019f-4a28-be46-e7d6fb8dd59f",
        "part": "whole"
       },
       "id": "07cd68ea-88f7-44ff-a8cf-47fc614eee78"
      }
     }
    },
    "e0415971-8135-41ab-9b69-c4e869ac3a2f": {
     "id": "e0415971-8135-41ab-9b69-c4e869ac3a2f",
     "prev": null,
     "regions": {
      "f9751d5a-791b-4001-a173-d1920831fac6": {
       "attrs": {
        "height": 0.8,
        "width": 0.8,
        "x": 0.1,
        "y": 0.1
       },
       "content": {
        "cell": "eabd9c22-caac-47b4-aa50-ae1a65f80431",
        "part": "whole"
       },
       "id": "f9751d5a-791b-4001-a173-d1920831fac6"
      }
     }
    },
    "f38f910a-146d-41b0-89eb-96314e2676e5": {
     "id": "f38f910a-146d-41b0-89eb-96314e2676e5",
     "prev": "a68d3dcf-e28e-4bde-ada0-9d67dbd90ac8",
     "regions": {
      "6a86dcdc-3068-4356-8da5-2cb9aaf32c29": {
       "attrs": {
        "height": 0.8,
        "width": 0.8,
        "x": 0.1,
        "y": 0.1
       },
       "content": {
        "cell": "083dea70-fab4-4fad-8515-166bb2b3bbdf",
        "part": "whole"
       },
       "id": "6a86dcdc-3068-4356-8da5-2cb9aaf32c29"
      }
     }
    },
    "f6b1c478-7af8-4ca8-adc7-05b9814a84de": {
     "id": "f6b1c478-7af8-4ca8-adc7-05b9814a84de",
     "prev": "3caa4679-1824-4b16-b7cd-dfcd5c2c6573",
     "regions": {
      "c3cfd135-a7c6-4030-96a5-c2e19f362b1c": {
       "attrs": {
        "height": 0.8,
        "width": 0.8,
        "x": 0.1,
        "y": 0.1
       },
       "content": {
        "cell": "4e223abd-b4e0-4851-a7f1-4c49f9d629e0",
        "part": "whole"
       },
       "id": "c3cfd135-a7c6-4030-96a5-c2e19f362b1c"
      }
     }
    }
   },
   "themes": {
    "default": "37e1b273-26e2-43f4-8269-af8fd93a3125",
    "theme": {
     "37e1b273-26e2-43f4-8269-af8fd93a3125": {
      "backgrounds": {
       "dc7afa04-bf90-40b1-82a5-726e3cff5267": {
        "background-color": "31af15d2-7e15-44c5-ab5e-e04b16a89eff",
        "id": "dc7afa04-bf90-40b1-82a5-726e3cff5267"
       }
      },
      "id": "37e1b273-26e2-43f4-8269-af8fd93a3125",
      "palette": {
       "19cc588f-0593-49c9-9f4b-e4d7cc113b1c": {
        "id": "19cc588f-0593-49c9-9f4b-e4d7cc113b1c",
        "rgb": [
         252,
         252,
         252
        ]
       },
       "31af15d2-7e15-44c5-ab5e-e04b16a89eff": {
        "id": "31af15d2-7e15-44c5-ab5e-e04b16a89eff",
        "rgb": [
         68,
         68,
         68
        ]
       },
       "50f92c45-a630-455b-aec3-788680ec7410": {
        "id": "50f92c45-a630-455b-aec3-788680ec7410",
        "rgb": [
         197,
         226,
         245
        ]
       },
       "c5cc3653-2ee1-402a-aba2-7caae1da4f6c": {
        "id": "c5cc3653-2ee1-402a-aba2-7caae1da4f6c",
        "rgb": [
         43,
         126,
         184
        ]
       },
       "efa7f048-9acb-414c-8b04-a26811511a21": {
        "id": "efa7f048-9acb-414c-8b04-a26811511a21",
        "rgb": [
         25.118061674008803,
         73.60176211453744,
         107.4819383259912
        ]
       }
      },
      "rules": {
       "a": {
        "color": "19cc588f-0593-49c9-9f4b-e4d7cc113b1c"
       },
       "blockquote": {
        "color": "50f92c45-a630-455b-aec3-788680ec7410",
        "font-size": 3
       },
       "code": {
        "font-family": "Anonymous Pro"
       },
       "h1": {
        "color": "19cc588f-0593-49c9-9f4b-e4d7cc113b1c",
        "font-family": "Merriweather",
        "font-size": 8
       },
       "h2": {
        "color": "19cc588f-0593-49c9-9f4b-e4d7cc113b1c",
        "font-family": "Merriweather",
        "font-size": 6
       },
       "h3": {
        "color": "50f92c45-a630-455b-aec3-788680ec7410",
        "font-family": "Lato",
        "font-size": 5.5
       },
       "h4": {
        "color": "c5cc3653-2ee1-402a-aba2-7caae1da4f6c",
        "font-family": "Lato",
        "font-size": 5
       },
       "h5": {
        "font-family": "Lato"
       },
       "h6": {
        "font-family": "Lato"
       },
       "h7": {
        "font-family": "Lato"
       },
       "li": {
        "color": "50f92c45-a630-455b-aec3-788680ec7410",
        "font-size": 3.25
       },
       "pre": {
        "font-family": "Anonymous Pro",
        "font-size": 4
       }
      },
      "text-base": {
       "color": "19cc588f-0593-49c9-9f4b-e4d7cc113b1c",
       "font-family": "Lato",
       "font-size": 4
      }
     }
    }
   }
  },
  "toc": {
   "navigate_menu": true,
   "number_sections": true,
   "sideBar": true,
   "threshold": 6,
   "toc_cell": false,
   "toc_section_display": "block",
   "toc_window_display": false
  }
 },
 "nbformat": 4,
 "nbformat_minor": 2
}
